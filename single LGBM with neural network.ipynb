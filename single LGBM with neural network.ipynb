{
  "cells": [
    {
      "metadata": {
        "_uuid": "23647147b7c0f8e902e12b304e1c995705aefa6b"
      },
      "cell_type": "markdown",
      "source": "## This is going to be my first neuralnetwork, i dont know how its going to perform over the given data set , but since i heard that . Neural networks are good at capturing non-linearity. I will use all the trciks from the andrew Ng course i am going to give it just 2 hours and i hope that you my creation will outperform each and every of my creation till now."
    },
    {
      "metadata": {
        "_uuid": "6ecfde3b4a0bc7359b1e18137aa1f04c05a1bcd4"
      },
      "cell_type": "markdown",
      "source": "### FIrstly we will try without any feature transformation , then we will try out with feture transformation, alright."
    },
    {
      "metadata": {
        "_uuid": "8f2839f25d086af736a60e9eeb907d3b93b6e0e5",
        "_cell_guid": "b1076dfc-b9ad-4769-8c92-a6c4dae69d19",
        "trusted": true
      },
      "cell_type": "code",
      "source": "# This Python 3 environment comes with many helpful analytics libraries installed\n# It is defined by the kaggle/python docker image: https://github.com/kaggle/docker-python\n# For example, here's several helpful packages to load in \n\nimport numpy as np # linear algebra\nimport pandas as pd # data processing, CSV file I/O (e.g. pd.read_csv)\n\n\nfrom keras.models import Sequential\nfrom keras.layers import Dense\n\n# fix random seed for reproducibility\nnp.random.seed(7)\n\n# Input data files are available in the \"../input/\" directory.\n# For example, running this (by clicking run or pressing Shift+Enter) will list the files in the input directory\n\nimport os\nprint(os.listdir(\"../input\"))\n\n# Any results you write to the current directory are saved as output.",
      "execution_count": 1,
      "outputs": [
        {
          "output_type": "stream",
          "text": "Using TensorFlow backend.\n",
          "name": "stderr"
        },
        {
          "output_type": "stream",
          "text": "['train.csv', 'test.csv']\n",
          "name": "stdout"
        }
      ]
    },
    {
      "metadata": {
        "_cell_guid": "79c7e3d0-c299-4dcb-8224-4455121ee9b0",
        "collapsed": true,
        "_uuid": "d629ff2d2480ee46fbb7e2d37f6b5fab8052498a",
        "trusted": true
      },
      "cell_type": "code",
      "source": "train = pd.read_csv('../input/train.csv')\ntest = pd.read_csv('../input/test.csv')",
      "execution_count": 2,
      "outputs": []
    },
    {
      "metadata": {
        "trusted": true,
        "_uuid": "7d01c70728f3fb5859baa7eaca2b1fc3845bda64"
      },
      "cell_type": "code",
      "source": "train['age'].mode()\nlen(train[train['age'] == 26])/ len(train)",
      "execution_count": 3,
      "outputs": [
        {
          "output_type": "execute_result",
          "execution_count": 3,
          "data": {
            "text/plain": "0.035490177314175565"
          },
          "metadata": {}
        }
      ]
    },
    {
      "metadata": {
        "trusted": true,
        "collapsed": true,
        "_uuid": "e189e7f48090483fb9fe808d87587acaadf1e823"
      },
      "cell_type": "code",
      "source": "train['age'].fillna(26, inplace = True)\ntest['age'].fillna(26, inplace = True)\ntrain['trainee_engagement_rating'].fillna(1, inplace = True)\ntest['trainee_engagement_rating'].fillna(1, inplace = True)",
      "execution_count": 4,
      "outputs": []
    },
    {
      "metadata": {
        "trusted": true,
        "_uuid": "5cdbfd5e3b678c5d2015d60f68940bb17be41725"
      },
      "cell_type": "code",
      "source": "col_drop = ['program_id', 'id', 'test_id','trainee_id']    ## we will eliminate age from here.since wew ill use ut as it is.\ntrain_o = train.drop(col_drop , axis = 1)\nprint(train_o.shape)\ntrain_o.head()",
      "execution_count": 5,
      "outputs": [
        {
          "output_type": "stream",
          "text": "(73147, 12)\n",
          "name": "stdout"
        },
        {
          "output_type": "execute_result",
          "execution_count": 5,
          "data": {
            "text/plain": "  program_type  program_duration   ...   trainee_engagement_rating is_pass\n0            Y               136   ...                         1.0       0\n1            T               131   ...                         3.0       1\n2            Z               120   ...                         2.0       1\n3            T               117   ...                         1.0       1\n4            V               131   ...                         4.0       1\n\n[5 rows x 12 columns]",
            "text/html": "<div>\n<style scoped>\n    .dataframe tbody tr th:only-of-type {\n        vertical-align: middle;\n    }\n\n    .dataframe tbody tr th {\n        vertical-align: top;\n    }\n\n    .dataframe thead th {\n        text-align: right;\n    }\n</style>\n<table border=\"1\" class=\"dataframe\">\n  <thead>\n    <tr style=\"text-align: right;\">\n      <th></th>\n      <th>program_type</th>\n      <th>program_duration</th>\n      <th>test_type</th>\n      <th>difficulty_level</th>\n      <th>gender</th>\n      <th>education</th>\n      <th>city_tier</th>\n      <th>age</th>\n      <th>total_programs_enrolled</th>\n      <th>is_handicapped</th>\n      <th>trainee_engagement_rating</th>\n      <th>is_pass</th>\n    </tr>\n  </thead>\n  <tbody>\n    <tr>\n      <th>0</th>\n      <td>Y</td>\n      <td>136</td>\n      <td>offline</td>\n      <td>intermediate</td>\n      <td>M</td>\n      <td>Matriculation</td>\n      <td>3</td>\n      <td>26.0</td>\n      <td>5</td>\n      <td>N</td>\n      <td>1.0</td>\n      <td>0</td>\n    </tr>\n    <tr>\n      <th>1</th>\n      <td>T</td>\n      <td>131</td>\n      <td>offline</td>\n      <td>easy</td>\n      <td>F</td>\n      <td>High School Diploma</td>\n      <td>4</td>\n      <td>30.0</td>\n      <td>2</td>\n      <td>N</td>\n      <td>3.0</td>\n      <td>1</td>\n    </tr>\n    <tr>\n      <th>2</th>\n      <td>Z</td>\n      <td>120</td>\n      <td>online</td>\n      <td>easy</td>\n      <td>M</td>\n      <td>Matriculation</td>\n      <td>1</td>\n      <td>45.0</td>\n      <td>1</td>\n      <td>N</td>\n      <td>2.0</td>\n      <td>1</td>\n    </tr>\n    <tr>\n      <th>3</th>\n      <td>T</td>\n      <td>117</td>\n      <td>offline</td>\n      <td>easy</td>\n      <td>F</td>\n      <td>Matriculation</td>\n      <td>3</td>\n      <td>26.0</td>\n      <td>4</td>\n      <td>N</td>\n      <td>1.0</td>\n      <td>1</td>\n    </tr>\n    <tr>\n      <th>4</th>\n      <td>V</td>\n      <td>131</td>\n      <td>offline</td>\n      <td>intermediate</td>\n      <td>F</td>\n      <td>High School Diploma</td>\n      <td>1</td>\n      <td>43.0</td>\n      <td>2</td>\n      <td>N</td>\n      <td>4.0</td>\n      <td>1</td>\n    </tr>\n  </tbody>\n</table>\n</div>"
          },
          "metadata": {}
        }
      ]
    },
    {
      "metadata": {
        "trusted": true,
        "_uuid": "06656d294d1946804748af79762259e893f045f0"
      },
      "cell_type": "code",
      "source": "## for the actual test data\nids = test['id']\ncol_drop = ['program_id', 'id', 'test_id', 'trainee_id']\ntests = test.drop(col_drop , axis = 1)\nprint(tests.shape)\ntests.head()",
      "execution_count": 6,
      "outputs": [
        {
          "output_type": "stream",
          "text": "(31349, 11)\n",
          "name": "stdout"
        },
        {
          "output_type": "execute_result",
          "execution_count": 6,
          "data": {
            "text/plain": "  program_type            ...              trainee_engagement_rating\n0            T            ...                                    4.0\n1            Y            ...                                    4.0\n2            Y            ...                                    3.0\n3            V            ...                                    2.0\n4            V            ...                                    2.0\n\n[5 rows x 11 columns]",
            "text/html": "<div>\n<style scoped>\n    .dataframe tbody tr th:only-of-type {\n        vertical-align: middle;\n    }\n\n    .dataframe tbody tr th {\n        vertical-align: top;\n    }\n\n    .dataframe thead th {\n        text-align: right;\n    }\n</style>\n<table border=\"1\" class=\"dataframe\">\n  <thead>\n    <tr style=\"text-align: right;\">\n      <th></th>\n      <th>program_type</th>\n      <th>program_duration</th>\n      <th>test_type</th>\n      <th>difficulty_level</th>\n      <th>gender</th>\n      <th>education</th>\n      <th>city_tier</th>\n      <th>age</th>\n      <th>total_programs_enrolled</th>\n      <th>is_handicapped</th>\n      <th>trainee_engagement_rating</th>\n    </tr>\n  </thead>\n  <tbody>\n    <tr>\n      <th>0</th>\n      <td>T</td>\n      <td>131</td>\n      <td>offline</td>\n      <td>intermediate</td>\n      <td>F</td>\n      <td>Matriculation</td>\n      <td>3</td>\n      <td>50.0</td>\n      <td>2</td>\n      <td>N</td>\n      <td>4.0</td>\n    </tr>\n    <tr>\n      <th>1</th>\n      <td>Y</td>\n      <td>135</td>\n      <td>online</td>\n      <td>easy</td>\n      <td>M</td>\n      <td>Bachelors</td>\n      <td>3</td>\n      <td>22.0</td>\n      <td>4</td>\n      <td>N</td>\n      <td>4.0</td>\n    </tr>\n    <tr>\n      <th>2</th>\n      <td>Y</td>\n      <td>120</td>\n      <td>online</td>\n      <td>easy</td>\n      <td>M</td>\n      <td>Matriculation</td>\n      <td>3</td>\n      <td>24.0</td>\n      <td>2</td>\n      <td>N</td>\n      <td>3.0</td>\n    </tr>\n    <tr>\n      <th>3</th>\n      <td>V</td>\n      <td>122</td>\n      <td>offline</td>\n      <td>vary hard</td>\n      <td>F</td>\n      <td>High School Diploma</td>\n      <td>1</td>\n      <td>27.0</td>\n      <td>2</td>\n      <td>N</td>\n      <td>2.0</td>\n    </tr>\n    <tr>\n      <th>4</th>\n      <td>V</td>\n      <td>122</td>\n      <td>offline</td>\n      <td>intermediate</td>\n      <td>F</td>\n      <td>Matriculation</td>\n      <td>3</td>\n      <td>18.0</td>\n      <td>2</td>\n      <td>N</td>\n      <td>2.0</td>\n    </tr>\n  </tbody>\n</table>\n</div>"
          },
          "metadata": {}
        }
      ]
    },
    {
      "metadata": {
        "trusted": true,
        "collapsed": true,
        "_uuid": "bec4e8eecfbf31a44f4ae49391a1a5a898111caa"
      },
      "cell_type": "code",
      "source": "from sklearn.preprocessing import LabelEncoder\n## Lets tyy out some feture transformation ideas.\n## replace masters with bachelors\n## if total_programs_enrolled >5 then assign 5 , jsut to keep the distribution uniform idk if it will work or not.\ndef feat_transform(data):\n    ## we will try this feature transformation in the next try\n    data['total_programs_enrolled'] = [5 if i > 5 else i for i in data.total_programs_enrolled]\n    ## made the dictionay for the difficulty_level, education\n\n    ## use labelEncoder for test_type, gender, is_handicapped\n    label = LabelEncoder()\n    data['test_type'] = label.fit_transform(data['test_type'])\n    data['gender'] = label.fit_transform(data['gender'])\n    data['is_handicapped'] = label.fit_transform(data['is_handicapped'])",
      "execution_count": 7,
      "outputs": []
    },
    {
      "metadata": {
        "trusted": true,
        "collapsed": true,
        "_uuid": "4c012bd1f0478dd47257f142cb9b41b2ff54cd47"
      },
      "cell_type": "code",
      "source": "feat_transform(train_o)",
      "execution_count": 8,
      "outputs": []
    },
    {
      "metadata": {
        "trusted": true,
        "_uuid": "fa0a238e7f3ccbafc7ee32bf7602e9fd49dd1934"
      },
      "cell_type": "code",
      "source": "feat_transform(tests)\nprint(set(tests['education']))\nprint(set(tests['total_programs_enrolled']))",
      "execution_count": 9,
      "outputs": [
        {
          "output_type": "stream",
          "text": "{'Matriculation', 'Bachelors', 'High School Diploma', 'No Qualification', 'Masters'}\n{1, 2, 3, 4, 5}\n",
          "name": "stdout"
        }
      ]
    },
    {
      "metadata": {
        "trusted": true,
        "_uuid": "99cc3cd559ce842b7e1c02f8fea8d7c20f029925"
      },
      "cell_type": "code",
      "source": "dict_level =  {'easy':0, 'intermediate':1, 'hard':2, 'vary hard':3}\ntrain_o['difficulty_level'] = train['difficulty_level'].map(dict_level)\ndict_edu = {'No Qualification':0, 'High School Diploma':1, 'Matriculation':2, 'Bachelors':3, 'Masters':4}\ntrain_o['education'] = train['education'].map(dict_edu)\ntrain_o.head()",
      "execution_count": 10,
      "outputs": [
        {
          "output_type": "execute_result",
          "execution_count": 10,
          "data": {
            "text/plain": "  program_type  program_duration   ...     trainee_engagement_rating  is_pass\n0            Y               136   ...                           1.0        0\n1            T               131   ...                           3.0        1\n2            Z               120   ...                           2.0        1\n3            T               117   ...                           1.0        1\n4            V               131   ...                           4.0        1\n\n[5 rows x 12 columns]",
            "text/html": "<div>\n<style scoped>\n    .dataframe tbody tr th:only-of-type {\n        vertical-align: middle;\n    }\n\n    .dataframe tbody tr th {\n        vertical-align: top;\n    }\n\n    .dataframe thead th {\n        text-align: right;\n    }\n</style>\n<table border=\"1\" class=\"dataframe\">\n  <thead>\n    <tr style=\"text-align: right;\">\n      <th></th>\n      <th>program_type</th>\n      <th>program_duration</th>\n      <th>test_type</th>\n      <th>difficulty_level</th>\n      <th>gender</th>\n      <th>education</th>\n      <th>city_tier</th>\n      <th>age</th>\n      <th>total_programs_enrolled</th>\n      <th>is_handicapped</th>\n      <th>trainee_engagement_rating</th>\n      <th>is_pass</th>\n    </tr>\n  </thead>\n  <tbody>\n    <tr>\n      <th>0</th>\n      <td>Y</td>\n      <td>136</td>\n      <td>0</td>\n      <td>1</td>\n      <td>1</td>\n      <td>2</td>\n      <td>3</td>\n      <td>26.0</td>\n      <td>5</td>\n      <td>0</td>\n      <td>1.0</td>\n      <td>0</td>\n    </tr>\n    <tr>\n      <th>1</th>\n      <td>T</td>\n      <td>131</td>\n      <td>0</td>\n      <td>0</td>\n      <td>0</td>\n      <td>1</td>\n      <td>4</td>\n      <td>30.0</td>\n      <td>2</td>\n      <td>0</td>\n      <td>3.0</td>\n      <td>1</td>\n    </tr>\n    <tr>\n      <th>2</th>\n      <td>Z</td>\n      <td>120</td>\n      <td>1</td>\n      <td>0</td>\n      <td>1</td>\n      <td>2</td>\n      <td>1</td>\n      <td>45.0</td>\n      <td>1</td>\n      <td>0</td>\n      <td>2.0</td>\n      <td>1</td>\n    </tr>\n    <tr>\n      <th>3</th>\n      <td>T</td>\n      <td>117</td>\n      <td>0</td>\n      <td>0</td>\n      <td>0</td>\n      <td>2</td>\n      <td>3</td>\n      <td>26.0</td>\n      <td>4</td>\n      <td>0</td>\n      <td>1.0</td>\n      <td>1</td>\n    </tr>\n    <tr>\n      <th>4</th>\n      <td>V</td>\n      <td>131</td>\n      <td>0</td>\n      <td>1</td>\n      <td>0</td>\n      <td>1</td>\n      <td>1</td>\n      <td>43.0</td>\n      <td>2</td>\n      <td>0</td>\n      <td>4.0</td>\n      <td>1</td>\n    </tr>\n  </tbody>\n</table>\n</div>"
          },
          "metadata": {}
        }
      ]
    },
    {
      "metadata": {
        "trusted": true,
        "_uuid": "0bedcdbbfa494b1e447da1fb5a85964ab3465037"
      },
      "cell_type": "code",
      "source": "dict_level =  {'easy':0, 'intermediate':1, 'hard':2, 'vary hard':3}\ntests['difficulty_level'] = test['difficulty_level'].map(dict_level)\ndict_edu = {'No Qualification':0, 'High School Diploma':1, 'Matriculation':2, 'Bachelors':3, 'Masters':4}\ntests['education'] = test['education'].map(dict_edu)\ntests.head()",
      "execution_count": 11,
      "outputs": [
        {
          "output_type": "execute_result",
          "execution_count": 11,
          "data": {
            "text/plain": "  program_type            ...              trainee_engagement_rating\n0            T            ...                                    4.0\n1            Y            ...                                    4.0\n2            Y            ...                                    3.0\n3            V            ...                                    2.0\n4            V            ...                                    2.0\n\n[5 rows x 11 columns]",
            "text/html": "<div>\n<style scoped>\n    .dataframe tbody tr th:only-of-type {\n        vertical-align: middle;\n    }\n\n    .dataframe tbody tr th {\n        vertical-align: top;\n    }\n\n    .dataframe thead th {\n        text-align: right;\n    }\n</style>\n<table border=\"1\" class=\"dataframe\">\n  <thead>\n    <tr style=\"text-align: right;\">\n      <th></th>\n      <th>program_type</th>\n      <th>program_duration</th>\n      <th>test_type</th>\n      <th>difficulty_level</th>\n      <th>gender</th>\n      <th>education</th>\n      <th>city_tier</th>\n      <th>age</th>\n      <th>total_programs_enrolled</th>\n      <th>is_handicapped</th>\n      <th>trainee_engagement_rating</th>\n    </tr>\n  </thead>\n  <tbody>\n    <tr>\n      <th>0</th>\n      <td>T</td>\n      <td>131</td>\n      <td>0</td>\n      <td>1</td>\n      <td>0</td>\n      <td>2</td>\n      <td>3</td>\n      <td>50.0</td>\n      <td>2</td>\n      <td>0</td>\n      <td>4.0</td>\n    </tr>\n    <tr>\n      <th>1</th>\n      <td>Y</td>\n      <td>135</td>\n      <td>1</td>\n      <td>0</td>\n      <td>1</td>\n      <td>3</td>\n      <td>3</td>\n      <td>22.0</td>\n      <td>4</td>\n      <td>0</td>\n      <td>4.0</td>\n    </tr>\n    <tr>\n      <th>2</th>\n      <td>Y</td>\n      <td>120</td>\n      <td>1</td>\n      <td>0</td>\n      <td>1</td>\n      <td>2</td>\n      <td>3</td>\n      <td>24.0</td>\n      <td>2</td>\n      <td>0</td>\n      <td>3.0</td>\n    </tr>\n    <tr>\n      <th>3</th>\n      <td>V</td>\n      <td>122</td>\n      <td>0</td>\n      <td>3</td>\n      <td>0</td>\n      <td>1</td>\n      <td>1</td>\n      <td>27.0</td>\n      <td>2</td>\n      <td>0</td>\n      <td>2.0</td>\n    </tr>\n    <tr>\n      <th>4</th>\n      <td>V</td>\n      <td>122</td>\n      <td>0</td>\n      <td>1</td>\n      <td>0</td>\n      <td>2</td>\n      <td>3</td>\n      <td>18.0</td>\n      <td>2</td>\n      <td>0</td>\n      <td>2.0</td>\n    </tr>\n  </tbody>\n</table>\n</div>"
          },
          "metadata": {}
        }
      ]
    },
    {
      "metadata": {
        "trusted": true,
        "_uuid": "56c14e7638c5d3847be16c4990432f6a465b0002"
      },
      "cell_type": "code",
      "source": "columns = ['program_type']\ntrain_orig = pd.get_dummies(train_o , columns = columns)    ## remove city_tier give it a try \nprint(train_orig.shape) ",
      "execution_count": 12,
      "outputs": [
        {
          "output_type": "stream",
          "text": "(73147, 18)\n",
          "name": "stdout"
        }
      ]
    },
    {
      "metadata": {
        "trusted": true,
        "_uuid": "f0ecc2515b73dc328009dd12f1437e0a12aafad2"
      },
      "cell_type": "code",
      "source": "columns = ['program_type']\ntest_orig = pd.get_dummies(tests, columns = columns)      ## remove n city tier\nprint(test_orig.shape)                                    ## add city_tier\nprint(test_orig.columns)",
      "execution_count": 13,
      "outputs": [
        {
          "output_type": "stream",
          "text": "(31349, 17)\nIndex(['program_duration', 'test_type', 'difficulty_level', 'gender',\n       'education', 'city_tier', 'age', 'total_programs_enrolled',\n       'is_handicapped', 'trainee_engagement_rating', 'program_type_S',\n       'program_type_T', 'program_type_U', 'program_type_V', 'program_type_X',\n       'program_type_Y', 'program_type_Z'],\n      dtype='object')\n",
          "name": "stdout"
        }
      ]
    },
    {
      "metadata": {
        "trusted": true,
        "_uuid": "eeaf638bd3d4f2dc606b6e4294af44f5fd78fd16",
        "collapsed": true
      },
      "cell_type": "code",
      "source": "from sklearn.model_selection import train_test_split\nfrom sklearn.metrics import roc_curve, auc, confusion_matrix, precision_recall_curve, classification_report, average_precision_score,roc_auc_score\nimport matplotlib.pyplot as plt",
      "execution_count": 40,
      "outputs": []
    },
    {
      "metadata": {
        "trusted": true,
        "_uuid": "8eae4ebfe3d6ddbed0b10f49dbb678dffdac5bd3",
        "collapsed": true
      },
      "cell_type": "code",
      "source": "train_df, test_df = train_test_split(train_orig, test_size = 0.25, random_state= 1984)",
      "execution_count": 15,
      "outputs": []
    },
    {
      "metadata": {
        "trusted": true,
        "collapsed": true,
        "_uuid": "596c19ac284159ebb4e6be186113f0578d2ad0f5"
      },
      "cell_type": "code",
      "source": "y_train = train_df.is_pass\ny_val = test_df.is_pass\n\nx_train = train_df.drop(['is_pass'], axis = 1)\nx_val = test_df.drop(['is_pass'], axis = 1)\n\n## Make your data ready to feed in ot the neural network\n\n#y_train = np.array(y_train)\n#y_val = np.array(y_val)\n\n#x_train = np.array(x_train)\n#x_val = np.array(x_val)\n",
      "execution_count": 16,
      "outputs": []
    },
    {
      "metadata": {
        "trusted": true,
        "_uuid": "bfb39a2721bde3e7687ff9f6dbc447d600f45de6"
      },
      "cell_type": "code",
      "source": "print(x_train.shape)",
      "execution_count": 17,
      "outputs": [
        {
          "output_type": "stream",
          "text": "(54860, 17)\n",
          "name": "stdout"
        }
      ]
    },
    {
      "metadata": {
        "trusted": true,
        "collapsed": true,
        "_uuid": "c73a3c6d25ba2bd1c5afbe936f48008a74fa1326"
      },
      "cell_type": "code",
      "source": "from keras import optimizers",
      "execution_count": 18,
      "outputs": []
    },
    {
      "metadata": {
        "trusted": true,
        "scrolled": false,
        "_uuid": "e68c0b3035f728e3ad921584103444535d974393"
      },
      "cell_type": "code",
      "source": "## Baseline AUC_score = 0.589\n##improvred roc .592 \n## loss decreases to .51 but roc .590\n## lets try with improved ffeatures\n\n## Create model, add 10 ylayer, usae adam optmizer , we are not adding anything to tackle overfitting (regularization)\n## Create model \n#model = Sequential()\n## lets make it a ten layer NN\nmodel.add(Dense(48, input_dim = x_train.shape[1], init = 'normal', activation = 'relu'))  ## init = he_normal or glorot_normal\nmodel.add(Dense(36, activation = 'relu'))\nmodel.add(Dense(36, activation = 'relu'))\nmodel.add(Dense(36, activation = 'relu'))\nmodel.add(Dense(36, activation = 'relu'))\nmodel.add(Dense(26, activation = 'relu'))\nmodel.add(Dense(26, activation = 'relu'))\nmodel.add(Dense(26, activation = 'relu'))\nmodel.add(Dense(16, activation = 'relu'))\nmodel.add(Dense(1, activation = 'sigmoid'))\nadam = optimizers.Adam(lr=0.001, beta_1=0.9, beta_2=0.999, epsilon=None, decay=0.0, amsgrad=False)\nmodel.compile(loss = 'binary_crossentropy', optimizer = adam)\n\nmodel.fit(x_train, y_train, epochs = 600, batch_size = 128)\n## loss at the last epoch 0.5517, fom here on we will try to optimize (Simple NN , batch_siz = 32)\n## loss at the last epoch 0.5602, fom here on we will try to optimize (Deep NN with optimizer, batch_size = 256)\n## loss at the last epoch .5560, fom here on we will try to optimize (Deep NN with optimizer, batch_size = 256, double the iterations )\n## loss at the last epoch , fom here on we will try to optimize (Deep NN with optimizer, batch_size = 128, double the iterations )",
      "execution_count": 19,
      "outputs": [
        {
          "output_type": "error",
          "ename": "NameError",
          "evalue": "name 'model' is not defined",
          "traceback": [
            "\u001b[0;31m---------------------------------------------------------------------------\u001b[0m",
            "\u001b[0;31mNameError\u001b[0m                                 Traceback (most recent call last)",
            "\u001b[0;32m<ipython-input-19-5dda630a6d34>\u001b[0m in \u001b[0;36m<module>\u001b[0;34m()\u001b[0m\n\u001b[1;32m      8\u001b[0m \u001b[0;31m#model = Sequential()\u001b[0m\u001b[0;34m\u001b[0m\u001b[0;34m\u001b[0m\u001b[0m\n\u001b[1;32m      9\u001b[0m \u001b[0;31m## lets make it a ten layer NN\u001b[0m\u001b[0;34m\u001b[0m\u001b[0;34m\u001b[0m\u001b[0m\n\u001b[0;32m---> 10\u001b[0;31m \u001b[0mmodel\u001b[0m\u001b[0;34m.\u001b[0m\u001b[0madd\u001b[0m\u001b[0;34m(\u001b[0m\u001b[0mDense\u001b[0m\u001b[0;34m(\u001b[0m\u001b[0;36m48\u001b[0m\u001b[0;34m,\u001b[0m \u001b[0minput_dim\u001b[0m \u001b[0;34m=\u001b[0m \u001b[0mx_train\u001b[0m\u001b[0;34m.\u001b[0m\u001b[0mshape\u001b[0m\u001b[0;34m[\u001b[0m\u001b[0;36m1\u001b[0m\u001b[0;34m]\u001b[0m\u001b[0;34m,\u001b[0m \u001b[0minit\u001b[0m \u001b[0;34m=\u001b[0m \u001b[0;34m'normal'\u001b[0m\u001b[0;34m,\u001b[0m \u001b[0mactivation\u001b[0m \u001b[0;34m=\u001b[0m \u001b[0;34m'relu'\u001b[0m\u001b[0;34m)\u001b[0m\u001b[0;34m)\u001b[0m  \u001b[0;31m## init = he_normal or glorot_normal\u001b[0m\u001b[0;34m\u001b[0m\u001b[0m\n\u001b[0m\u001b[1;32m     11\u001b[0m \u001b[0mmodel\u001b[0m\u001b[0;34m.\u001b[0m\u001b[0madd\u001b[0m\u001b[0;34m(\u001b[0m\u001b[0mDense\u001b[0m\u001b[0;34m(\u001b[0m\u001b[0;36m36\u001b[0m\u001b[0;34m,\u001b[0m \u001b[0mactivation\u001b[0m \u001b[0;34m=\u001b[0m \u001b[0;34m'relu'\u001b[0m\u001b[0;34m)\u001b[0m\u001b[0;34m)\u001b[0m\u001b[0;34m\u001b[0m\u001b[0m\n\u001b[1;32m     12\u001b[0m \u001b[0mmodel\u001b[0m\u001b[0;34m.\u001b[0m\u001b[0madd\u001b[0m\u001b[0;34m(\u001b[0m\u001b[0mDense\u001b[0m\u001b[0;34m(\u001b[0m\u001b[0;36m36\u001b[0m\u001b[0;34m,\u001b[0m \u001b[0mactivation\u001b[0m \u001b[0;34m=\u001b[0m \u001b[0;34m'relu'\u001b[0m\u001b[0;34m)\u001b[0m\u001b[0;34m)\u001b[0m\u001b[0;34m\u001b[0m\u001b[0m\n",
            "\u001b[0;31mNameError\u001b[0m: name 'model' is not defined"
          ]
        }
      ]
    },
    {
      "metadata": {
        "trusted": true,
        "_uuid": "2a798d5100b6546652be75322525aa89be7104ca"
      },
      "cell_type": "code",
      "source": "from keras.utils.visualize_util import plot\nplot(model, to_file='model.png')",
      "execution_count": 20,
      "outputs": [
        {
          "output_type": "error",
          "ename": "ModuleNotFoundError",
          "evalue": "No module named 'keras.utils.visualize_util'",
          "traceback": [
            "\u001b[0;31m---------------------------------------------------------------------------\u001b[0m",
            "\u001b[0;31mModuleNotFoundError\u001b[0m                       Traceback (most recent call last)",
            "\u001b[0;32m<ipython-input-20-e4ccf21ac9ce>\u001b[0m in \u001b[0;36m<module>\u001b[0;34m()\u001b[0m\n\u001b[0;32m----> 1\u001b[0;31m \u001b[0;32mfrom\u001b[0m \u001b[0mkeras\u001b[0m\u001b[0;34m.\u001b[0m\u001b[0mutils\u001b[0m\u001b[0;34m.\u001b[0m\u001b[0mvisualize_util\u001b[0m \u001b[0;32mimport\u001b[0m \u001b[0mplot\u001b[0m\u001b[0;34m\u001b[0m\u001b[0m\n\u001b[0m\u001b[1;32m      2\u001b[0m \u001b[0mplot\u001b[0m\u001b[0;34m(\u001b[0m\u001b[0mmodel\u001b[0m\u001b[0;34m,\u001b[0m \u001b[0mto_file\u001b[0m\u001b[0;34m=\u001b[0m\u001b[0;34m'model.png'\u001b[0m\u001b[0;34m)\u001b[0m\u001b[0;34m\u001b[0m\u001b[0m\n",
            "\u001b[0;31mModuleNotFoundError\u001b[0m: No module named 'keras.utils.visualize_util'"
          ]
        }
      ]
    },
    {
      "metadata": {
        "trusted": true,
        "_uuid": "3320bbc2a22029abf3eabc896eeae22838212e6d"
      },
      "cell_type": "code",
      "source": "predict = model.predict(x_val) #y_val\npre.shape",
      "execution_count": 21,
      "outputs": [
        {
          "output_type": "error",
          "ename": "NameError",
          "evalue": "name 'model' is not defined",
          "traceback": [
            "\u001b[0;31m---------------------------------------------------------------------------\u001b[0m",
            "\u001b[0;31mNameError\u001b[0m                                 Traceback (most recent call last)",
            "\u001b[0;32m<ipython-input-21-15883550361c>\u001b[0m in \u001b[0;36m<module>\u001b[0;34m()\u001b[0m\n\u001b[0;32m----> 1\u001b[0;31m \u001b[0mpredict\u001b[0m \u001b[0;34m=\u001b[0m \u001b[0mmodel\u001b[0m\u001b[0;34m.\u001b[0m\u001b[0mpredict\u001b[0m\u001b[0;34m(\u001b[0m\u001b[0mx_val\u001b[0m\u001b[0;34m)\u001b[0m \u001b[0;31m#y_val\u001b[0m\u001b[0;34m\u001b[0m\u001b[0m\n\u001b[0m\u001b[1;32m      2\u001b[0m \u001b[0mpre\u001b[0m\u001b[0;34m.\u001b[0m\u001b[0mshape\u001b[0m\u001b[0;34m\u001b[0m\u001b[0m\n",
            "\u001b[0;31mNameError\u001b[0m: name 'model' is not defined"
          ]
        }
      ]
    },
    {
      "metadata": {
        "trusted": true,
        "_uuid": "e8eeef025244998bdc2229bdd72fabc3eedb688a"
      },
      "cell_type": "code",
      "source": "pre = predict[:,0]\n## label it as 0 and 1 \npre01 = np.where(pre > .5, 1, 0)",
      "execution_count": 22,
      "outputs": [
        {
          "output_type": "error",
          "ename": "NameError",
          "evalue": "name 'predict' is not defined",
          "traceback": [
            "\u001b[0;31m---------------------------------------------------------------------------\u001b[0m",
            "\u001b[0;31mNameError\u001b[0m                                 Traceback (most recent call last)",
            "\u001b[0;32m<ipython-input-22-2511c66848a2>\u001b[0m in \u001b[0;36m<module>\u001b[0;34m()\u001b[0m\n\u001b[0;32m----> 1\u001b[0;31m \u001b[0mpre\u001b[0m \u001b[0;34m=\u001b[0m \u001b[0mpredict\u001b[0m\u001b[0;34m[\u001b[0m\u001b[0;34m:\u001b[0m\u001b[0;34m,\u001b[0m\u001b[0;36m0\u001b[0m\u001b[0;34m]\u001b[0m\u001b[0;34m\u001b[0m\u001b[0m\n\u001b[0m\u001b[1;32m      2\u001b[0m \u001b[0;31m## label it as 0 and 1\u001b[0m\u001b[0;34m\u001b[0m\u001b[0;34m\u001b[0m\u001b[0m\n\u001b[1;32m      3\u001b[0m \u001b[0mpre01\u001b[0m \u001b[0;34m=\u001b[0m \u001b[0mnp\u001b[0m\u001b[0;34m.\u001b[0m\u001b[0mwhere\u001b[0m\u001b[0;34m(\u001b[0m\u001b[0mpre\u001b[0m \u001b[0;34m>\u001b[0m \u001b[0;36m.5\u001b[0m\u001b[0;34m,\u001b[0m \u001b[0;36m1\u001b[0m\u001b[0;34m,\u001b[0m \u001b[0;36m0\u001b[0m\u001b[0;34m)\u001b[0m\u001b[0;34m\u001b[0m\u001b[0m\n",
            "\u001b[0;31mNameError\u001b[0m: name 'predict' is not defined"
          ]
        }
      ]
    },
    {
      "metadata": {
        "trusted": true,
        "_uuid": "bb3e899592a4646aab4bda4a8107760b1518acf2"
      },
      "cell_type": "code",
      "source": "from sklearn.metrics import accuracy_score\naccuracy01 = accuracy_score(y_val, pre01)\nprint('accuracy of my neural network', accuracy01)",
      "execution_count": 23,
      "outputs": [
        {
          "output_type": "error",
          "ename": "NameError",
          "evalue": "name 'pre01' is not defined",
          "traceback": [
            "\u001b[0;31m---------------------------------------------------------------------------\u001b[0m",
            "\u001b[0;31mNameError\u001b[0m                                 Traceback (most recent call last)",
            "\u001b[0;32m<ipython-input-23-f660a94c9979>\u001b[0m in \u001b[0;36m<module>\u001b[0;34m()\u001b[0m\n\u001b[1;32m      1\u001b[0m \u001b[0;32mfrom\u001b[0m \u001b[0msklearn\u001b[0m\u001b[0;34m.\u001b[0m\u001b[0mmetrics\u001b[0m \u001b[0;32mimport\u001b[0m \u001b[0maccuracy_score\u001b[0m\u001b[0;34m\u001b[0m\u001b[0m\n\u001b[0;32m----> 2\u001b[0;31m \u001b[0maccuracy01\u001b[0m \u001b[0;34m=\u001b[0m \u001b[0maccuracy_score\u001b[0m\u001b[0;34m(\u001b[0m\u001b[0my_val\u001b[0m\u001b[0;34m,\u001b[0m \u001b[0mpre01\u001b[0m\u001b[0;34m)\u001b[0m\u001b[0;34m\u001b[0m\u001b[0m\n\u001b[0m\u001b[1;32m      3\u001b[0m \u001b[0mprint\u001b[0m\u001b[0;34m(\u001b[0m\u001b[0;34m'accuracy of my neural network'\u001b[0m\u001b[0;34m,\u001b[0m \u001b[0maccuracy01\u001b[0m\u001b[0;34m)\u001b[0m\u001b[0;34m\u001b[0m\u001b[0m\n",
            "\u001b[0;31mNameError\u001b[0m: name 'pre01' is not defined"
          ]
        }
      ]
    },
    {
      "metadata": {
        "trusted": true,
        "_uuid": "e12bedec903a52bddf99a9057e5c8f99afe5927c"
      },
      "cell_type": "code",
      "source": "roc_score = roc_auc_score(y_val, pre01)\nprint('ROC score', roc_score)   ## it can even go bad for the actual test set",
      "execution_count": 24,
      "outputs": [
        {
          "output_type": "error",
          "ename": "NameError",
          "evalue": "name 'pre01' is not defined",
          "traceback": [
            "\u001b[0;31m---------------------------------------------------------------------------\u001b[0m",
            "\u001b[0;31mNameError\u001b[0m                                 Traceback (most recent call last)",
            "\u001b[0;32m<ipython-input-24-fc0d2cc84cfa>\u001b[0m in \u001b[0;36m<module>\u001b[0;34m()\u001b[0m\n\u001b[0;32m----> 1\u001b[0;31m \u001b[0mroc_score\u001b[0m \u001b[0;34m=\u001b[0m \u001b[0mroc_auc_score\u001b[0m\u001b[0;34m(\u001b[0m\u001b[0my_val\u001b[0m\u001b[0;34m,\u001b[0m \u001b[0mpre01\u001b[0m\u001b[0;34m)\u001b[0m\u001b[0;34m\u001b[0m\u001b[0m\n\u001b[0m\u001b[1;32m      2\u001b[0m \u001b[0mprint\u001b[0m\u001b[0;34m(\u001b[0m\u001b[0;34m'ROC score'\u001b[0m\u001b[0;34m,\u001b[0m \u001b[0mroc_score\u001b[0m\u001b[0;34m)\u001b[0m   \u001b[0;31m## it can even go bad for the actual test set\u001b[0m\u001b[0;34m\u001b[0m\u001b[0m\n",
            "\u001b[0;31mNameError\u001b[0m: name 'pre01' is not defined"
          ]
        }
      ]
    },
    {
      "metadata": {
        "trusted": true,
        "_uuid": "b2a311903826d61af34d68f343c53b897d8f3615"
      },
      "cell_type": "code",
      "source": "## Also build the confusion matrix \nimport seaborn as sns\ncm = confusion_matrix(y_val, pre01)\nplt.figure(figsize = (10,10))\nsns.heatmap(cm, annot = True, cmap = 'Blues', fmt = 'd', vmin = .2)\nplt.title('Confusion_Matrix')\n",
      "execution_count": 25,
      "outputs": [
        {
          "output_type": "error",
          "ename": "NameError",
          "evalue": "name 'pre01' is not defined",
          "traceback": [
            "\u001b[0;31m---------------------------------------------------------------------------\u001b[0m",
            "\u001b[0;31mNameError\u001b[0m                                 Traceback (most recent call last)",
            "\u001b[0;32m<ipython-input-25-de276abd69ae>\u001b[0m in \u001b[0;36m<module>\u001b[0;34m()\u001b[0m\n\u001b[1;32m      1\u001b[0m \u001b[0;31m## Also build the confusion matrix\u001b[0m\u001b[0;34m\u001b[0m\u001b[0;34m\u001b[0m\u001b[0m\n\u001b[1;32m      2\u001b[0m \u001b[0;32mimport\u001b[0m \u001b[0mseaborn\u001b[0m \u001b[0;32mas\u001b[0m \u001b[0msns\u001b[0m\u001b[0;34m\u001b[0m\u001b[0m\n\u001b[0;32m----> 3\u001b[0;31m \u001b[0mcm\u001b[0m \u001b[0;34m=\u001b[0m \u001b[0mconfusion_matrix\u001b[0m\u001b[0;34m(\u001b[0m\u001b[0my_val\u001b[0m\u001b[0;34m,\u001b[0m \u001b[0mpre01\u001b[0m\u001b[0;34m)\u001b[0m\u001b[0;34m\u001b[0m\u001b[0m\n\u001b[0m\u001b[1;32m      4\u001b[0m \u001b[0mplt\u001b[0m\u001b[0;34m.\u001b[0m\u001b[0mfigure\u001b[0m\u001b[0;34m(\u001b[0m\u001b[0mfigsize\u001b[0m \u001b[0;34m=\u001b[0m \u001b[0;34m(\u001b[0m\u001b[0;36m10\u001b[0m\u001b[0;34m,\u001b[0m\u001b[0;36m10\u001b[0m\u001b[0;34m)\u001b[0m\u001b[0;34m)\u001b[0m\u001b[0;34m\u001b[0m\u001b[0m\n\u001b[1;32m      5\u001b[0m \u001b[0msns\u001b[0m\u001b[0;34m.\u001b[0m\u001b[0mheatmap\u001b[0m\u001b[0;34m(\u001b[0m\u001b[0mcm\u001b[0m\u001b[0;34m,\u001b[0m \u001b[0mannot\u001b[0m \u001b[0;34m=\u001b[0m \u001b[0;32mTrue\u001b[0m\u001b[0;34m,\u001b[0m \u001b[0mcmap\u001b[0m \u001b[0;34m=\u001b[0m \u001b[0;34m'Blues'\u001b[0m\u001b[0;34m,\u001b[0m \u001b[0mfmt\u001b[0m \u001b[0;34m=\u001b[0m \u001b[0;34m'd'\u001b[0m\u001b[0;34m,\u001b[0m \u001b[0mvmin\u001b[0m \u001b[0;34m=\u001b[0m \u001b[0;36m.2\u001b[0m\u001b[0;34m)\u001b[0m\u001b[0;34m\u001b[0m\u001b[0m\n",
            "\u001b[0;31mNameError\u001b[0m: name 'pre01' is not defined"
          ]
        }
      ]
    },
    {
      "metadata": {
        "_uuid": "b588fe0f836c907c24407c1cca2caa5d113777d0"
      },
      "cell_type": "markdown",
      "source": "## As the confusion mat depicts even if our accuracy is good but still we are not i a  good place \n## FN :4099, FP : 1000  simple NN\n## FN: 4243 FP: 939 Deep NN with optimizer\n## FN: 4073 FP: 1188 Deep NN with optimizer .5844"
    },
    {
      "metadata": {
        "trusted": true,
        "_uuid": "2bcf19d902a5f9c440f77204e08557badf8eaaab"
      },
      "cell_type": "code",
      "source": "## Build a LGBM\n## Reference https://medium.com/@pushkarmandot/https-medium-com-pushkarmandot-what-is-lightgbm-how-to-implement-it-how-to-fine-tune-the-parameters-60347819b7fc\nimport lightgbm as lgb\nd_train = lgb.Dataset(x_train, label=y_train)\nparams = {}\nparams['learning_rate'] = 0.00003\nparams['boosting_type'] = 'dart'\nparams['objective'] = 'binary'\nparams['metric'] = 'auc'\nparams['max_bin'] = 1000\nparams['sub_feature'] = 0.5\nparams['num_leaves'] = 500\nparams['min_data'] = 2000\nparams['max_depth'] = 12\nclf = lgb.train(params, d_train, 1000)",
      "execution_count": 66,
      "outputs": []
    },
    {
      "metadata": {
        "trusted": true,
        "_uuid": "c58726110be91a036cbc1b5be2333b0f302e8be9"
      },
      "cell_type": "code",
      "source": "y_pred=clf.predict(x_val)\n#convert into binary values\nfor i in range(0,x_val.shape[0]):\n    if y_pred[i]>=.5:       # setting threshold to .5\n       y_pred[i]=1\n    else:  \n       y_pred[i]=0",
      "execution_count": 67,
      "outputs": []
    },
    {
      "metadata": {
        "trusted": true,
        "_uuid": "71ba1abd0c6459aa79b23ad2be1b7484d7e5c60c",
        "scrolled": true
      },
      "cell_type": "code",
      "source": "from sklearn.metrics import confusion_matrix\ncm = confusion_matrix(y_val, y_pred)\ncm",
      "execution_count": 68,
      "outputs": [
        {
          "output_type": "execute_result",
          "execution_count": 68,
          "data": {
            "text/plain": "array([[   74,  5446],\n       [   18, 12749]])"
          },
          "metadata": {}
        }
      ]
    },
    {
      "metadata": {
        "trusted": true,
        "_uuid": "5571bb857532bdc54ab358dbd95ba1f3f9e5e9a4"
      },
      "cell_type": "code",
      "source": "\nw = roc_auc_score(y_val, y_pred)\nw",
      "execution_count": 62,
      "outputs": [
        {
          "output_type": "execute_result",
          "execution_count": 62,
          "data": {
            "text/plain": "0.52754217735261766"
          },
          "metadata": {}
        }
      ]
    },
    {
      "metadata": {
        "trusted": true,
        "collapsed": true,
        "_uuid": "0866cf66ca28acd7a90f45e4a3f372b0a208dfe9"
      },
      "cell_type": "code",
      "source": "",
      "execution_count": null,
      "outputs": []
    },
    {
      "metadata": {
        "trusted": true,
        "collapsed": true,
        "_uuid": "0b354d726bb74deace8132ab26c3a0f52324cb0e"
      },
      "cell_type": "code",
      "source": "",
      "execution_count": null,
      "outputs": []
    },
    {
      "metadata": {
        "trusted": true,
        "collapsed": true,
        "_uuid": "6cf60bde4ff074990e8c7e6a2854681696069e08"
      },
      "cell_type": "code",
      "source": "",
      "execution_count": null,
      "outputs": []
    }
  ],
  "metadata": {
    "kernelspec": {
      "display_name": "Python 3",
      "language": "python",
      "name": "python3"
    },
    "language_info": {
      "name": "python",
      "version": "3.6.5",
      "mimetype": "text/x-python",
      "codemirror_mode": {
        "name": "ipython",
        "version": 3
      },
      "pygments_lexer": "ipython3",
      "nbconvert_exporter": "python",
      "file_extension": ".py"
    }
  },
  "nbformat": 4,
  "nbformat_minor": 1
}